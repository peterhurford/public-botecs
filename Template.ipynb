{
 "cells": [
  {
   "cell_type": "code",
   "execution_count": 1,
   "id": "b7997139",
   "metadata": {},
   "outputs": [
    {
     "name": "stdout",
     "output_type": "stream",
     "text": [
      "Loaded 1/2...\n",
      "Loaded 2/2...\n"
     ]
    }
   ],
   "source": [
    "# Imports\n",
    "import numpy as np\n",
    "import squigglepy as sq\n",
    "from squigglepy.numbers import K, M\n",
    "from squigglepy import bayes\n",
    "import matplotlib.pyplot as plt\n",
    "from pprint import pprint\n",
    "print('Loaded 1/2...')\n",
    "\n",
    "\n",
    "def hist(samples, title=None, bins=200):\n",
    "    fig = plt.figure()\n",
    "    fig.patch.set_facecolor('white')\n",
    "    plt.hist(samples, bins=bins)\n",
    "    if title is not None:\n",
    "        plt.title(title)\n",
    "    return plt.show()\n",
    "\n",
    "\n",
    "def plot_cdf(xs, ys, title=None, xlabel=None, ylabel=None):\n",
    "    fig = plt.figure()\n",
    "    fig.patch.set_facecolor('white')\n",
    "    plt.plot(xs, ys, marker=\".\", markersize=10)\n",
    "    \n",
    "    if xlabel is not None:\n",
    "        plt.xlabel(xlabel)\n",
    "    if ylabel is not None:\n",
    "        plt.ylabel(ylabel)\n",
    "\n",
    "    for x, y in zip(xs, ys):\n",
    "        if len(ys) < 15 or x % 2 == 0:\n",
    "            label = \"{:.2f}\".format(y)\n",
    "            plt.annotate('{}%'.format(int(y * 100)),\n",
    "                         (x, y),\n",
    "                         textcoords=\"offset points\",\n",
    "                         xytext=(0, 10),\n",
    "                         ha='center')\n",
    "            \n",
    "    if title is not None:\n",
    "        plt.title(title)\n",
    "        \n",
    "    return plt.show()\n",
    "\n",
    "print('Loaded 2/2...')"
   ]
  },
  {
   "cell_type": "code",
   "execution_count": 2,
   "id": "5e341014",
   "metadata": {},
   "outputs": [
    {
     "name": "stdout",
     "output_type": "stream",
     "text": [
      "Loaded...\n"
     ]
    }
   ],
   "source": [
    "# Define model\n",
    "def model():\n",
    "    var = sq.norm(1, 5)\n",
    "    return sq.sample(var)\n",
    "\n",
    "print('Loaded...')"
   ]
  },
  {
   "cell_type": "code",
   "execution_count": 3,
   "id": "9ca65393",
   "metadata": {},
   "outputs": [
    {
     "name": "stdout",
     "output_type": "stream",
     "text": [
      "-\n",
      "Mean: 3.0, SD: 1.21\n",
      "-\n"
     ]
    },
    {
     "data": {
      "image/png": "[encoded data removed]",
      "text/plain": [
       "<Figure size 432x288 with 1 Axes>"
      ]
     },
     "metadata": {},
     "output_type": "display_data"
    },
    {
     "name": "stdout",
     "output_type": "stream",
     "text": [
      "{1: 0.17,\n",
      " 5: 0.98,\n",
      " 10: 1.43,\n",
      " 20: 1.98,\n",
      " 30: 2.37,\n",
      " 40: 2.7,\n",
      " 50: 3.0,\n",
      " 60: 3.3,\n",
      " 70: 3.63,\n",
      " 80: 4.02,\n",
      " 90: 4.56,\n",
      " 95: 4.98,\n",
      " 99: 5.74}\n"
     ]
    }
   ],
   "source": [
    "# Sample model\n",
    "n_samples = 10000\n",
    "samples = sq.sample(model, n=n_samples)\n",
    "\n",
    "print('-')\n",
    "print('Mean: {}, SD: {}'.format(round(np.mean(samples), 2),\n",
    "                                round(np.std(samples), 2)))\n",
    "print('-')\n",
    "hist(samples)\n",
    "pprint(sq.get_percentiles(samples, digits=2))\n"
   ]
  }
 ],
 "metadata": {
  "kernelspec": {
   "display_name": "Python 3 (ipykernel)",
   "language": "python",
   "name": "python3"
  },
  "language_info": {
   "codemirror_mode": {
    "name": "ipython",
    "version": 3
   },
   "file_extension": ".py",
   "mimetype": "text/x-python",
   "name": "python",
   "nbconvert_exporter": "python",
   "pygments_lexer": "ipython3",
   "version": "3.9.13"
  }
 },
 "nbformat": 4,
 "nbformat_minor": 5
}
