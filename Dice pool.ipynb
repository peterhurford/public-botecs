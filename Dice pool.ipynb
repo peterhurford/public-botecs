{
 "cells": [
  {
   "cell_type": "markdown",
   "id": "bc2d0d6a-1088-43d8-8593-23868ebc0c7c",
   "metadata": {},
   "source": [
    "## Roll d20"
   ]
  },
  {
   "cell_type": "code",
   "execution_count": 1,
   "id": "adedb8b9-672f-4c6b-82f7-d354863eb248",
   "metadata": {},
   "outputs": [
    {
     "data": {
      "text/plain": [
       "1"
      ]
     },
     "execution_count": 1,
     "metadata": {},
     "output_type": "execute_result"
    }
   ],
   "source": [
    "import squigglepy as sq\n",
    "~sq.die(20)"
   ]
  },
  {
   "cell_type": "markdown",
   "id": "0e8b1364-807b-4bdc-94e8-1e3096fa89cf",
   "metadata": {},
   "source": [
    "## Hero System (3d6, sum)"
   ]
  },
  {
   "cell_type": "code",
   "execution_count": 3,
   "id": "7a8247c3-9833-45ad-be2a-048a96b0c649",
   "metadata": {},
   "outputs": [
    {
     "data": {
      "text/plain": [
       "7"
      ]
     },
     "execution_count": 3,
     "metadata": {},
     "output_type": "execute_result"
    }
   ],
   "source": [
    "sum(sq.die(6) @ 3)"
   ]
  },
  {
   "cell_type": "markdown",
   "id": "53c61655-ec40-4421-93a2-29e05342bdca",
   "metadata": {},
   "source": [
    "## Adventure System - d10 die pool of size s, exploding 10, win on >= 7"
   ]
  },
  {
   "cell_type": "code",
   "execution_count": 6,
   "id": "767250a4-e0b8-4bfa-a3c6-551fa6135dce",
   "metadata": {},
   "outputs": [
    {
     "data": {
      "text/plain": [
       "2"
      ]
     },
     "execution_count": 6,
     "metadata": {},
     "output_type": "execute_result"
    }
   ],
   "source": [
    "pool_size = 4\n",
    "sum(sq.die(10) @ pool_size > 7)"
   ]
  }
 ],
 "metadata": {
  "kernelspec": {
   "display_name": "Python 3 (ipykernel)",
   "language": "python",
   "name": "python3"
  },
  "language_info": {
   "codemirror_mode": {
    "name": "ipython",
    "version": 3
   },
   "file_extension": ".py",
   "mimetype": "text/x-python",
   "name": "python",
   "nbconvert_exporter": "python",
   "pygments_lexer": "ipython3",
   "version": "3.11.4"
  }
 },
 "nbformat": 4,
 "nbformat_minor": 5
}
