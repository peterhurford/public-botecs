{
 "cells": [
  {
   "cell_type": "code",
   "execution_count": 1,
   "id": "b7997139",
   "metadata": {},
   "outputs": [
    {
     "name": "stdout",
     "output_type": "stream",
     "text": [
      "Loaded\n"
     ]
    }
   ],
   "source": [
    "# Imports\n",
    "import numpy as np\n",
    "import squigglepy as sq\n",
    "from squigglepy.numbers import K, M, B, T\n",
    "from squigglepy import bayes\n",
    "import matplotlib.pyplot as plt\n",
    "from pprint import pprint\n",
    "\n",
    "\n",
    "def hist(samples, title=None, bins=200):\n",
    "    fig = plt.figure()\n",
    "    fig.patch.set_facecolor('white')\n",
    "    plt.hist(samples, bins=bins)\n",
    "    if title is not None:\n",
    "        plt.title(title)\n",
    "    return plt.show()\n",
    "\n",
    "\n",
    "print('Loaded')"
   ]
  },
  {
   "cell_type": "code",
   "execution_count": 2,
   "id": "5e341014",
   "metadata": {},
   "outputs": [
    {
     "name": "stdout",
     "output_type": "stream",
     "text": [
      "29yo male, no COPD/immune/diabetic: 1 in 30,566\n",
      "28yo female w/ immune: 1 in 17,171\n",
      "66yo female, no COPD/immune/diabetic: 1 in 646\n",
      "66yo male, diabetic: 1 in 105\n",
      "80yo female, COPD: 1 in 17\n"
     ]
    }
   ],
   "source": [
    "def chance_of_death_from_covid(age, gender='male', copd=False, immune_compromised=False, diabetic=False, treatments=True):\n",
    "    \"\"\"\n",
    "    Calculation based on equation from https://twitter.com/DFisman/status/1273266048570138625 adjusted\n",
    "    for CFR->IFR using age-based weights derived from https://www.medrxiv.org/content/10.1101/2020.07.23.20160895v2\n",
    "    Omicron reduction from https://www.metaculus.com/questions/8766/omicron-variant-less-deadly-than-delta/\n",
    "    \"\"\"\n",
    "    \n",
    "    gender = 2 if gender.lower() == 'male' else 0\n",
    "    copd = 3 if copd else 0\n",
    "    immune_compromised = 4 if immune_compromised else 0\n",
    "    diabetic = 4 if diabetic else 0\n",
    "    treatments = 0.2 if treatments else 1\n",
    "    \n",
    "    if age < 50:\n",
    "        adj_age = 10\n",
    "    elif age < 60:\n",
    "        adj_age = 8\n",
    "    elif age < 70:\n",
    "        adj_age = 4.5\n",
    "    elif age < 80:\n",
    "        adj_age = 3.5\n",
    "    else:\n",
    "        adj_age = 1\n",
    "        \n",
    "    omicron_reduction = 0.94\n",
    "    \n",
    "    p = 1 / ((np.exp(9.99 - 0.34 * ((age*3)/10 + gender + copd + immune_compromised + diabetic)) + 1) * adj_age)\n",
    "    return p * omicron_reduction * treatments\n",
    "    \n",
    "\n",
    "print('29yo male, no COPD/immune/diabetic: {}'.format(sq.one_in(chance_of_death_from_covid(29,\n",
    "                                                                                           gender='male',\n",
    "                                                                                           copd=False,\n",
    "                                                                                           immune_compromised=False,\n",
    "                                                                                           diabetic=False,\n",
    "                                                                                           treatments=True))))\n",
    "\n",
    "print('28yo female w/ immune: {}'.format(sq.one_in(chance_of_death_from_covid(28,\n",
    "                                                                              gender='female',\n",
    "                                                                              copd=False,\n",
    "                                                                              immune_compromised=True,\n",
    "                                                                              diabetic=False,\n",
    "                                                                              treatments=True))))\n",
    "\n",
    "print('66yo female, no COPD/immune/diabetic: {}'.format(sq.one_in(chance_of_death_from_covid(66,\n",
    "                                                                                             gender='female',\n",
    "                                                                                             copd=False,\n",
    "                                                                                             immune_compromised=False,\n",
    "                                                                                             diabetic=False,\n",
    "                                                                                             treatments=True))))\n",
    "\n",
    "print('66yo male, diabetic: {}'.format(sq.one_in(chance_of_death_from_covid(66,\n",
    "                                                                            gender='male',\n",
    "                                                                            copd=False,\n",
    "                                                                            immune_compromised=False,\n",
    "                                                                            diabetic=True,\n",
    "                                                                            treatments=True))))\n",
    "\n",
    "print('80yo female, COPD: {}'.format(sq.one_in(chance_of_death_from_covid(80,\n",
    "                                                                          gender='female',\n",
    "                                                                          copd=True,\n",
    "                                                                          immune_compromised=False,\n",
    "                                                                          diabetic=False,\n",
    "                                                                          treatments=True))))\n",
    "\n"
   ]
  },
  {
   "cell_type": "code",
   "execution_count": 3,
   "id": "93e7a12e",
   "metadata": {},
   "outputs": [
    {
     "name": "stdout",
     "output_type": "stream",
     "text": [
      "Loaded\n"
     ]
    }
   ],
   "source": [
    "def value_lost_from_covid(p_covid_infection):    \n",
    "    p_sickness_g_covid = 0.2\n",
    "    days_sick = sq.to(4, 15)\n",
    "    dollars_per_hour = 100\n",
    "    hours_per_day = 10\n",
    "    value_lost_from_sickness = dollars_per_hour * hours_per_day * days_sick\n",
    "    \n",
    "    p_long_covid_g_covid = 0.01\n",
    "    months_sick = sq.to(4, 15)\n",
    "    value_lost_from_long_covid = dollars_per_hour * 2 * 30.5 * months_sick\n",
    "    \n",
    "    value_of_life = 100*M\n",
    "    p_death_g_covid = chance_of_death_from_covid(29) * sq.to(1/3, 3)\n",
    "    value_lost_from_death = value_of_life * p_death_g_covid *  p_covid_infection\n",
    "    \n",
    "    return (value_lost_from_sickness + value_lost_from_death + value_lost_from_long_covid) * p_covid_infection\n",
    "\n",
    "\n",
    "print('Loaded')"
   ]
  },
  {
   "cell_type": "code",
   "execution_count": 4,
   "id": "79b48791",
   "metadata": {},
   "outputs": [
    {
     "name": "stdout",
     "output_type": "stream",
     "text": [
      "## CONCERT ##\n"
     ]
    },
    {
     "name": "stderr",
     "output_type": "stream",
     "text": [
      "100%|██████████████████████████████████████████████████████████████████████████████████████████████████████████████████████████████████████████████████████████████| 10000/10000 [00:00<00:00, 14704.55it/s]\n"
     ]
    },
    {
     "name": "stdout",
     "output_type": "stream",
     "text": [
      "-\n",
      "Mean: 47.81, SD: 62.12\n",
      "-\n"
     ]
    },
    {
     "data": {
      "image/png": "[encoded data removed]",
      "text/plain": [
       "<Figure size 432x288 with 1 Axes>"
      ]
     },
     "metadata": {},
     "output_type": "display_data"
    },
    {
     "name": "stdout",
     "output_type": "stream",
     "text": [
      "{1: -50.49,\n",
      " 5: -15.3,\n",
      " 10: -3.76,\n",
      " 20: 7.35,\n",
      " 30: 15.48,\n",
      " 40: 24.12,\n",
      " 50: 33.04,\n",
      " 60: 43.58,\n",
      " 70: 58.67,\n",
      " 80: 79.43,\n",
      " 90: 116.6,\n",
      " 95: 159.59,\n",
      " 99: 285.26}\n",
      "-\n",
      "76.97% chance masking is a good idea\n"
     ]
    }
   ],
   "source": [
    "n_samples = 10*K\n",
    "\n",
    "print('## CONCERT ##')\n",
    "p_covid_infection_g_mask = sq.to(110/M, 970/M) # https://www.microcovid.org/?distance=close&duration=120&interaction=oneTime&personCount=15&riskProfile=average&scenarioName=custom&setting=indoor&subLocation=US_39061&theirMask=none&topLocation=US_39&voice=silent&yourMask=n95&yourVaccineDoses=3&yourVaccineType=moderna\n",
    "p_covid_infection_g_no_mask = sq.to(320/M, 2900/M) # https://www.microcovid.org/?distance=close&duration=120&interaction=oneTime&personCount=15&riskProfile=average&scenarioName=custom&setting=indoor&subLocation=US_39061&theirMask=none&topLocation=US_39&voice=silent&yourMask=none&yourVaccineDoses=3&yourVaccineType=moderna\n",
    "samples = sq.sample(value_lost_from_covid(p_covid_infection_g_no_mask - p_covid_infection_g_mask), n=n_samples, verbose=True)\n",
    "\n",
    "print('-')\n",
    "print('Mean: {}, SD: {}'.format(round(np.mean(samples), 2),\n",
    "                                round(np.std(samples), 2)))\n",
    "print('-')\n",
    "hist(samples)\n",
    "pprint(sq.get_percentiles(samples, digits=2))\n",
    "\n",
    "print('-')\n",
    "willingness_to_pay_to_avoid_masking = 10\n",
    "print('{}% chance masking is a good idea'.format(sum([s > willingness_to_pay_to_avoid_masking for s in samples]) / n_samples * 100))\n",
    "\n"
   ]
  },
  {
   "cell_type": "code",
   "execution_count": 5,
   "id": "efa9c09d",
   "metadata": {},
   "outputs": [
    {
     "name": "stdout",
     "output_type": "stream",
     "text": [
      "## AIRPLANE ##\n"
     ]
    },
    {
     "name": "stderr",
     "output_type": "stream",
     "text": [
      "100%|██████████████████████████████████████████████████████████████████████████████████████████████████████████████████████████████████████████████████████████████| 10000/10000 [00:00<00:00, 14500.48it/s]\n"
     ]
    },
    {
     "name": "stdout",
     "output_type": "stream",
     "text": [
      "-\n",
      "Mean: 2.5, SD: 3.18\n",
      "-\n"
     ]
    },
    {
     "data": {
      "image/png": "[encoded data removed]",
      "text/plain": [
       "<Figure size 432x288 with 1 Axes>"
      ]
     },
     "metadata": {},
     "output_type": "display_data"
    },
    {
     "name": "stdout",
     "output_type": "stream",
     "text": [
      "{1: -2.08,\n",
      " 5: -0.64,\n",
      " 10: -0.1,\n",
      " 20: 0.41,\n",
      " 30: 0.82,\n",
      " 40: 1.24,\n",
      " 50: 1.7,\n",
      " 60: 2.28,\n",
      " 70: 3.02,\n",
      " 80: 4.09,\n",
      " 90: 5.98,\n",
      " 95: 8.06,\n",
      " 99: 14.63}\n",
      "-\n",
      "5.1% chance masking is a good idea\n"
     ]
    }
   ],
   "source": [
    "print('## AIRPLANE ##')\n",
    "p_covid_infection_g_mask = sq.to(5.4/M, 48/M) # https://www.microcovid.org/?distance=normal&duration=180&interaction=oneTime&personCount=6&riskProfile=average&scenarioName=custom&setting=plane&subLocation=US_39061&theirMask=none&theirVaccine=vaccinated&topLocation=US_39&voice=silent&yourMask=n95&yourVaccineDoses=3&yourVaccineType=moderna\n",
    "p_covid_infection_g_no_mask = sq.to(16/M, 150/M) # https://www.microcovid.org/?distance=normal&duration=180&interaction=oneTime&personCount=6&riskProfile=average&scenarioName=custom&setting=plane&subLocation=US_39061&theirMask=none&theirVaccine=vaccinated&topLocation=US_39&voice=silent&yourMask=none&yourVaccineDoses=3&yourVaccineType=moderna\n",
    "samples = sq.sample(value_lost_from_covid(p_covid_infection_g_no_mask - p_covid_infection_g_mask), n=n_samples, verbose=True)\n",
    "\n",
    "print('-')\n",
    "print('Mean: {}, SD: {}'.format(round(np.mean(samples), 2),\n",
    "                                round(np.std(samples), 2)))\n",
    "print('-')\n",
    "hist(samples)\n",
    "pprint(sq.get_percentiles(samples, digits=2))\n",
    "\n",
    "print('-')\n",
    "willingness_to_pay_to_avoid_masking = 8\n",
    "print('{}% chance masking is a good idea'.format(sum([s > willingness_to_pay_to_avoid_masking for s in samples]) / n_samples * 100))\n",
    "\n"
   ]
  },
  {
   "cell_type": "code",
   "execution_count": 6,
   "id": "4ad3529f",
   "metadata": {},
   "outputs": [
    {
     "name": "stdout",
     "output_type": "stream",
     "text": [
      "## 15MIN IN STORE ##\n"
     ]
    },
    {
     "name": "stderr",
     "output_type": "stream",
     "text": [
      "100%|██████████████████████████████████████████████████████████████████████████████████████████████████████████████████████████████████████████████████████████████| 10000/10000 [00:00<00:00, 15181.39it/s]\n"
     ]
    },
    {
     "name": "stdout",
     "output_type": "stream",
     "text": [
      "-\n",
      "Mean: 0.02, SD: 0.02\n",
      "-\n"
     ]
    },
    {
     "data": {
      "image/png": "[encoded data removed]",
      "text/plain": [
       "<Figure size 432x288 with 1 Axes>"
      ]
     },
     "metadata": {},
     "output_type": "display_data"
    },
    {
     "name": "stdout",
     "output_type": "stream",
     "text": [
      "{1: -0.01,\n",
      " 5: -0.0,\n",
      " 10: -0.0,\n",
      " 20: 0.0,\n",
      " 30: 0.0,\n",
      " 40: 0.01,\n",
      " 50: 0.01,\n",
      " 60: 0.01,\n",
      " 70: 0.02,\n",
      " 80: 0.03,\n",
      " 90: 0.04,\n",
      " 95: 0.06,\n",
      " 99: 0.1}\n",
      "-\n",
      "0.0% chance masking is a good idea\n"
     ]
    }
   ],
   "source": [
    "print('## 15MIN IN STORE ##')\n",
    "p_covid_infection_g_no_mask = sq.to(0.1/M, 1/M) # https://www.microcovid.org/?distance=sixFt&duration=15&interaction=oneTime&personCount=1&riskProfile=average&scenarioName=custom&setting=plane&subLocation=US_39061&theirMask=none&theirVaccine=vaccinated&topLocation=US_39&voice=silent&yourMask=none&yourVaccineDoses=3&yourVaccineType=moderna\n",
    "p_covid_infection_g_mask = sq.to(0.04/M, 0.3/M) # https://www.microcovid.org/?distance=sixFt&duration=15&interaction=oneTime&personCount=1&riskProfile=average&scenarioName=custom&setting=plane&subLocation=US_39061&theirMask=none&theirVaccine=vaccinated&topLocation=US_39&voice=silent&yourMask=none&yourVaccineDoses=3&yourVaccineType=moderna\n",
    "samples = sq.sample(value_lost_from_covid(p_covid_infection_g_no_mask - p_covid_infection_g_mask), n=n_samples, verbose=True)\n",
    "\n",
    "print('-')\n",
    "print('Mean: {}, SD: {}'.format(round(np.mean(samples), 2),\n",
    "                                round(np.std(samples), 2)))\n",
    "print('-')\n",
    "hist(samples)\n",
    "pprint(sq.get_percentiles(samples, digits=2))\n",
    "\n",
    "print('-')\n",
    "willingness_to_pay_to_avoid_masking = 0.50\n",
    "print('{}% chance masking is a good idea'.format(sum([s > willingness_to_pay_to_avoid_masking for s in samples]) / n_samples * 100))\n",
    "\n"
   ]
  }
 ],
 "metadata": {
  "kernelspec": {
   "display_name": "Python 3 (ipykernel)",
   "language": "python",
   "name": "python3"
  },
  "language_info": {
   "codemirror_mode": {
    "name": "ipython",
    "version": 3
   },
   "file_extension": ".py",
   "mimetype": "text/x-python",
   "name": "python",
   "nbconvert_exporter": "python",
   "pygments_lexer": "ipython3",
   "version": "3.9.13"
  }
 },
 "nbformat": 4,
 "nbformat_minor": 5
}
