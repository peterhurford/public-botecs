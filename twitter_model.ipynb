{
 "cells": [
  {
   "cell_type": "code",
   "execution_count": 1,
   "id": "b7997139",
   "metadata": {},
   "outputs": [
    {
     "name": "stdout",
     "output_type": "stream",
     "text": [
      "Loaded...\n"
     ]
    }
   ],
   "source": [
    "# Imports\n",
    "import calendar\n",
    "import numpy as np\n",
    "import squigglepy as sq\n",
    "from squigglepy.numbers import K, M\n",
    "from squigglepy import bayes\n",
    "import matplotlib.pyplot as plt\n",
    "from pprint import pprint\n",
    "from datetime import datetime\n",
    "print('Loaded...')"
   ]
  },
  {
   "cell_type": "code",
   "execution_count": 2,
   "id": "5e341014",
   "metadata": {},
   "outputs": [
    {
     "name": "stdout",
     "output_type": "stream",
     "text": [
      "Days left: 2\n",
      "Monthly projection: 20, weight: 0.967\n",
      "-\n",
      "Loaded...\n"
     ]
    }
   ],
   "source": [
    "# Define model\n",
    "starting_followers = 4474\n",
    "current_followers = 4769\n",
    "goal_date = datetime(2022, 11, 1, 0, 0, 0)\n",
    "days_left = (goal_date - datetime.now()).days\n",
    "\n",
    "days_in_month = calendar.monthrange(datetime.now().year, datetime.now().month)[1]\n",
    "avg_gains_in_month = (current_followers - starting_followers) / (days_in_month - days_left)\n",
    "monthly_projection = avg_gains_in_month * days_left\n",
    "projection_weight = ((days_in_month - days_left) / days_in_month) ** 0.5\n",
    "print('Days left: {}'.format(days_left))\n",
    "print('Monthly projection: {}, weight: {}'.format(int(round(monthly_projection)), round(projection_weight, 3)))\n",
    "print('-')\n",
    "\n",
    "\n",
    "def model():\n",
    "    mean = sq.mixture([sq.lognorm(70, 500),\n",
    "                       sq.lognorm(monthly_projection * 0.5, monthly_projection * 2)],\n",
    "                       weights=1 - projection_weight)\n",
    "    \n",
    "    def sample_followers(mean):\n",
    "        return sq.poisson(mean) if mean > 0 else mean\n",
    "    \n",
    "    return current_followers + sq.dist_fn(mean, sample_followers)\n",
    "\n",
    "print('Loaded...')"
   ]
  },
  {
   "cell_type": "code",
   "execution_count": 3,
   "id": "9ca65393",
   "metadata": {},
   "outputs": [
    {
     "name": "stderr",
     "output_type": "stream",
     "text": [
      "100%|███████████████████████████████████████████████████████████████████████████████████████████████████████████████████████████████████████████████████████████████| 10000/10000 [00:04<00:00, 2021.65it/s]\n"
     ]
    },
    {
     "name": "stdout",
     "output_type": "stream",
     "text": [
      "-\n",
      "Mean: 4798.78, SD: 47.17\n",
      "-\n",
      "{1: 4774,\n",
      " 5: 4778,\n",
      " 10: 4780,\n",
      " 20: 4783,\n",
      " 30: 4785,\n",
      " 40: 4787,\n",
      " 50: 4790,\n",
      " 60: 4793,\n",
      " 70: 4796,\n",
      " 80: 4801,\n",
      " 90: 4810,\n",
      " 95: 4822,\n",
      " 99: 5039}\n"
     ]
    },
    {
     "data": {
      "image/png": "[encoded data removed]",
      "text/plain": [
       "<Figure size 432x288 with 1 Axes>"
      ]
     },
     "metadata": {
      "needs_background": "light"
     },
     "output_type": "display_data"
    }
   ],
   "source": [
    "# Sample model\n",
    "n_samples = 10*K\n",
    "samples = sq.sample(model, n=n_samples, verbose=True)\n",
    "\n",
    "print('-')\n",
    "print('Mean: {}, SD: {}'.format(round(np.mean(samples), 2),\n",
    "                                round(np.std(samples), 2)))\n",
    "print('-')\n",
    "plt.hist(samples, bins=200)\n",
    "pprint(sq.get_percentiles(samples, digits=0))\n"
   ]
  },
  {
   "cell_type": "code",
   "execution_count": 4,
   "id": "58508338",
   "metadata": {},
   "outputs": [
    {
     "name": "stdout",
     "output_type": "stream",
     "text": [
      "Average gains per day so far: 10.2\n",
      "-\n",
      "## Expected average gains per day over the remainder of the month ##\n",
      "{1: 2,\n",
      " 5: 4,\n",
      " 10: 5,\n",
      " 20: 7,\n",
      " 30: 8,\n",
      " 40: 9,\n",
      " 50: 10,\n",
      " 60: 12,\n",
      " 70: 13,\n",
      " 80: 16,\n",
      " 90: 20,\n",
      " 95: 26,\n",
      " 99: 135}\n"
     ]
    },
    {
     "data": {
      "image/png": "[encoded data removed]",
      "text/plain": [
       "<Figure size 432x288 with 1 Axes>"
      ]
     },
     "metadata": {
      "needs_background": "light"
     },
     "output_type": "display_data"
    }
   ],
   "source": [
    "print('Average gains per day so far: {}'.format(round(avg_gains_in_month, 1)))\n",
    "print('-')\n",
    "print('## Expected average gains per day over the remainder of the month ##')\n",
    "s = (samples - current_followers) / days_left\n",
    "plt.hist(s, bins=200)\n",
    "pprint(sq.get_percentiles(s, digits=0))"
   ]
  },
  {
   "cell_type": "code",
   "execution_count": 5,
   "id": "bc6e4256",
   "metadata": {},
   "outputs": [
    {
     "name": "stdout",
     "output_type": "stream",
     "text": [
      ">4550 - 100%\n",
      ">4600 - 100%\n",
      ">4650 - 100%\n",
      ">4700 - 100%\n",
      ">4750 - 100%\n",
      ">4800 - 21%\n",
      ">4850 - 3%\n",
      ">4900 - 2%\n",
      ">5000 - 1%\n"
     ]
    }
   ],
   "source": [
    "for target in [4550, 4600, 4650, 4700, 4750, 4800, 4850, 4900, 5000]:\n",
    "    print('>{} - {}%'.format(target, int(sum([s >= target for s in samples]) / len(samples) * 100)))"
   ]
  },
  {
   "cell_type": "code",
   "execution_count": null,
   "id": "03a98597",
   "metadata": {},
   "outputs": [],
   "source": []
  }
 ],
 "metadata": {
  "kernelspec": {
   "display_name": "Python 3 (ipykernel)",
   "language": "python",
   "name": "python3"
  },
  "language_info": {
   "codemirror_mode": {
    "name": "ipython",
    "version": 3
   },
   "file_extension": ".py",
   "mimetype": "text/x-python",
   "name": "python",
   "nbconvert_exporter": "python",
   "pygments_lexer": "ipython3",
   "version": "3.9.13"
  }
 },
 "nbformat": 4,
 "nbformat_minor": 5
}
