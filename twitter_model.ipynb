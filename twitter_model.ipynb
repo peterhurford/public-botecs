{
 "cells": [
  {
   "cell_type": "code",
   "execution_count": 1,
   "id": "b7997139",
   "metadata": {},
   "outputs": [
    {
     "name": "stdout",
     "output_type": "stream",
     "text": [
      "Loaded...\n"
     ]
    }
   ],
   "source": [
    "# Imports\n",
    "import calendar\n",
    "import numpy as np\n",
    "import squigglepy as sq\n",
    "from squigglepy.numbers import K, M\n",
    "from squigglepy import bayes\n",
    "import matplotlib.pyplot as plt\n",
    "from pprint import pprint\n",
    "from datetime import datetime\n",
    "print('Loaded...')"
   ]
  },
  {
   "cell_type": "code",
   "execution_count": 2,
   "id": "5e341014",
   "metadata": {},
   "outputs": [
    {
     "name": "stdout",
     "output_type": "stream",
     "text": [
      "Days left: 16\n",
      "Monthly projection: 113, weight: 0.696\n",
      "-\n",
      "Loaded...\n"
     ]
    }
   ],
   "source": [
    "# Define model\n",
    "starting_followers = 4474\n",
    "current_followers = 4580\n",
    "goal_date = datetime(2022, 11, 1, 0, 0, 0)\n",
    "days_left = (goal_date - datetime.now()).days\n",
    "\n",
    "days_in_month = calendar.monthrange(datetime.now().year, datetime.now().month)[1]\n",
    "avg_gains_in_month = (current_followers - starting_followers) / (days_in_month - days_left)\n",
    "monthly_projection = avg_gains_in_month * days_left\n",
    "projection_weight = ((days_in_month - days_left) / days_in_month) ** 0.5\n",
    "print('Days left: {}'.format(days_left))\n",
    "print('Monthly projection: {}, weight: {}'.format(int(round(monthly_projection)), round(projection_weight, 3)))\n",
    "print('-')\n",
    "\n",
    "\n",
    "def model():\n",
    "    mean = sq.sample(sq.mixture([sq.lognorm(70, 500),\n",
    "                                 sq.lognorm(monthly_projection * 0.5, monthly_projection * 2)],\n",
    "                               weights=1 - projection_weight))\n",
    "    followers = sq.sample(sq.poisson(mean)) if mean > 0 else mean\n",
    "    return current_followers + followers\n",
    "\n",
    "print('Loaded...')"
   ]
  },
  {
   "cell_type": "code",
   "execution_count": 3,
   "id": "9ca65393",
   "metadata": {},
   "outputs": [
    {
     "name": "stderr",
     "output_type": "stream",
     "text": [
      "100%|███████████████████████████████████████████████████████████████████████████████████████████████████████████████████████████████████████████████████████████████| 10000/10000 [00:03<00:00, 3289.22it/s]\n"
     ]
    },
    {
     "name": "stdout",
     "output_type": "stream",
     "text": [
      "-\n",
      "Mean: 4732.9, SD: 103.89\n",
      "-\n",
      "{1: 4621,\n",
      " 5: 4637,\n",
      " 10: 4648,\n",
      " 20: 4665,\n",
      " 30: 4678,\n",
      " 40: 4692,\n",
      " 50: 4707,\n",
      " 60: 4724,\n",
      " 70: 4745,\n",
      " 80: 4778,\n",
      " 90: 4841,\n",
      " 95: 4918,\n",
      " 99: 5132}\n"
     ]
    },
    {
     "data": {
      "image/png": "[encoded data removed]",
      "text/plain": [
       "<Figure size 432x288 with 1 Axes>"
      ]
     },
     "metadata": {
      "needs_background": "light"
     },
     "output_type": "display_data"
    }
   ],
   "source": [
    "# Sample model\n",
    "n_samples = 10000\n",
    "samples = sq.sample(model, n=n_samples, verbose=True)\n",
    "\n",
    "print('-')\n",
    "print('Mean: {}, SD: {}'.format(round(np.mean(samples), 2),\n",
    "                                round(np.std(samples), 2)))\n",
    "print('-')\n",
    "plt.hist(samples, bins=200)\n",
    "pprint(sq.get_percentiles(samples, digits=0))\n"
   ]
  },
  {
   "cell_type": "code",
   "execution_count": 4,
   "id": "58508338",
   "metadata": {},
   "outputs": [
    {
     "name": "stdout",
     "output_type": "stream",
     "text": [
      "Average gains per day so far: 7.1\n",
      "-\n",
      "## Expected average gains per day over the remainder of the month ##\n",
      "{1: 2,\n",
      " 5: 3,\n",
      " 10: 4,\n",
      " 20: 5,\n",
      " 30: 6,\n",
      " 40: 7,\n",
      " 50: 7,\n",
      " 60: 9,\n",
      " 70: 10,\n",
      " 80: 12,\n",
      " 90: 16,\n",
      " 95: 21,\n",
      " 99: 34}\n"
     ]
    },
    {
     "data": {
      "image/png": "[encoded data removed]",
      "text/plain": [
       "<Figure size 432x288 with 1 Axes>"
      ]
     },
     "metadata": {
      "needs_background": "light"
     },
     "output_type": "display_data"
    }
   ],
   "source": [
    "print('Average gains per day so far: {}'.format(round(avg_gains_in_month, 1)))\n",
    "print('-')\n",
    "print('## Expected average gains per day over the remainder of the month ##')\n",
    "s = (samples - current_followers) / days_left\n",
    "plt.hist(s, bins=200)\n",
    "pprint(sq.get_percentiles(s, digits=0))"
   ]
  },
  {
   "cell_type": "code",
   "execution_count": 5,
   "id": "bc6e4256",
   "metadata": {},
   "outputs": [
    {
     "name": "stdout",
     "output_type": "stream",
     "text": [
      ">4550 - 100%\n",
      ">4600 - 99%\n",
      ">4650 - 89%\n",
      ">4700 - 54%\n",
      ">4750 - 28%\n",
      ">4800 - 15%\n",
      ">4850 - 9%\n",
      ">4900 - 5%\n",
      ">5000 - 2%\n"
     ]
    }
   ],
   "source": [
    "for target in [4550, 4600, 4650, 4700, 4750, 4800, 4850, 4900, 5000]:\n",
    "    print('>{} - {}%'.format(target, int(sum([s >= target for s in samples]) / len(samples) * 100)))"
   ]
  }
 ],
 "metadata": {
  "kernelspec": {
   "display_name": "Python 3 (ipykernel)",
   "language": "python",
   "name": "python3"
  },
  "language_info": {
   "codemirror_mode": {
    "name": "ipython",
    "version": 3
   },
   "file_extension": ".py",
   "mimetype": "text/x-python",
   "name": "python",
   "nbconvert_exporter": "python",
   "pygments_lexer": "ipython3",
   "version": "3.9.13"
  }
 },
 "nbformat": 4,
 "nbformat_minor": 5
}
