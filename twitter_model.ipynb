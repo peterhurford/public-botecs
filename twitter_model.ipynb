{
 "cells": [
  {
   "cell_type": "code",
   "execution_count": 1,
   "id": "b7997139",
   "metadata": {},
   "outputs": [
    {
     "name": "stdout",
     "output_type": "stream",
     "text": [
      "Loaded...\n"
     ]
    }
   ],
   "source": [
    "# Imports\n",
    "import numpy as np\n",
    "import squigglepy as sq\n",
    "from squigglepy.numbers import K, M\n",
    "from squigglepy import bayes\n",
    "import matplotlib.pyplot as plt\n",
    "from pprint import pprint\n",
    "from datetime import datetime\n",
    "print('Loaded...')"
   ]
  },
  {
   "cell_type": "code",
   "execution_count": 2,
   "id": "5e341014",
   "metadata": {},
   "outputs": [
    {
     "name": "stdout",
     "output_type": "stream",
     "text": [
      "Loaded...\n"
     ]
    }
   ],
   "source": [
    "# Define model\n",
    "current_followers = 4480\n",
    "goal_date = datetime(2022, 11, 1, 0, 0, 0)\n",
    "days_left = (goal_date - datetime.now()).days\n",
    "\n",
    "def model():\n",
    "    mean = sq.sample(sq.norm(80, 500, lclip=0))\n",
    "    followers = sq.sample(sq.poisson(mean))\n",
    "    return current_followers + followers\n",
    "\n",
    "print('Loaded...')"
   ]
  },
  {
   "cell_type": "code",
   "execution_count": 3,
   "id": "9ca65393",
   "metadata": {},
   "outputs": [
    {
     "name": "stdout",
     "output_type": "stream",
     "text": [
      "-\n",
      "Mean: 4770.46, SD: 127.47\n",
      "-\n",
      "{1: 4480,\n",
      " 5: 4560,\n",
      " 10: 4607,\n",
      " 20: 4661,\n",
      " 30: 4701,\n",
      " 40: 4736,\n",
      " 50: 4769,\n",
      " 60: 4802,\n",
      " 70: 4837,\n",
      " 80: 4879,\n",
      " 90: 4936,\n",
      " 95: 4981,\n",
      " 99: 5066}\n"
     ]
    },
    {
     "data": {
      "image/png": "[encoded data removed]",
      "text/plain": [
       "<Figure size 432x288 with 1 Axes>"
      ]
     },
     "metadata": {
      "needs_background": "light"
     },
     "output_type": "display_data"
    }
   ],
   "source": [
    "# Sample model\n",
    "n_samples = 10000\n",
    "samples = sq.sample(model, n=n_samples)\n",
    "\n",
    "print('-')\n",
    "print('Mean: {}, SD: {}'.format(round(np.mean(samples), 2),\n",
    "                                round(np.std(samples), 2)))\n",
    "print('-')\n",
    "plt.hist(samples, bins=200)\n",
    "pprint(sq.get_percentiles(samples, digits=0))\n"
   ]
  },
  {
   "cell_type": "code",
   "execution_count": 4,
   "id": "2aa7b19c",
   "metadata": {},
   "outputs": [
    {
     "name": "stdout",
     "output_type": "stream",
     "text": [
      "29\n"
     ]
    }
   ],
   "source": [
    "print(days_left)"
   ]
  },
  {
   "cell_type": "code",
   "execution_count": 5,
   "id": "bc6e4256",
   "metadata": {},
   "outputs": [
    {
     "name": "stdout",
     "output_type": "stream",
     "text": [
      "4550 - 95%\n",
      "4600 - 91%\n",
      "4650 - 82%\n",
      "4700 - 70%\n",
      "4750 - 55%\n",
      "4800 - 40%\n",
      "4850 - 26%\n",
      "4900 - 16%\n",
      "5000 - 3%\n"
     ]
    }
   ],
   "source": [
    "for target in [4550, 4600, 4650, 4700, 4750, 4800, 4850, 4900, 5000]:\n",
    "    print('{} - {}%'.format(target, int(sum([s >= target for s in samples]) / len(samples) * 100)))"
   ]
  }
 ],
 "metadata": {
  "kernelspec": {
   "display_name": "Python 3 (ipykernel)",
   "language": "python",
   "name": "python3"
  },
  "language_info": {
   "codemirror_mode": {
    "name": "ipython",
    "version": 3
   },
   "file_extension": ".py",
   "mimetype": "text/x-python",
   "name": "python",
   "nbconvert_exporter": "python",
   "pygments_lexer": "ipython3",
   "version": "3.9.13"
  }
 },
 "nbformat": 4,
 "nbformat_minor": 5
}
