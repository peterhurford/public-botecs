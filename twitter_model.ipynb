{
 "cells": [
  {
   "cell_type": "code",
   "execution_count": 1,
   "id": "b7997139",
   "metadata": {},
   "outputs": [
    {
     "name": "stdout",
     "output_type": "stream",
     "text": [
      "Loaded...\n"
     ]
    }
   ],
   "source": [
    "# Imports\n",
    "import calendar\n",
    "import numpy as np\n",
    "import squigglepy as sq\n",
    "from squigglepy.numbers import K, M\n",
    "from squigglepy import bayes\n",
    "import matplotlib.pyplot as plt\n",
    "from pprint import pprint\n",
    "from datetime import datetime\n",
    "print('Loaded...')"
   ]
  },
  {
   "cell_type": "code",
   "execution_count": 2,
   "id": "5e341014",
   "metadata": {},
   "outputs": [
    {
     "name": "stdout",
     "output_type": "stream",
     "text": [
      "Days left: 26\n",
      "Monthly projection: 422, weight: 0.365\n",
      "-\n",
      "Loaded...\n"
     ]
    }
   ],
   "source": [
    "# Define model\n",
    "starting_followers = 4803\n",
    "current_followers = 4868\n",
    "goal_date = datetime(2022, 12, 1, 0, 0, 0)\n",
    "days_left = (goal_date - datetime.now()).days + 1  # TODO: Adjust for partial days\n",
    "\n",
    "days_in_month = calendar.monthrange(datetime.now().year, datetime.now().month)[1]\n",
    "avg_gains_in_month = (current_followers - starting_followers) / (days_in_month - days_left)\n",
    "monthly_projection = avg_gains_in_month * days_left\n",
    "projection_weight = ((days_in_month - days_left) / days_in_month) ** 0.5\n",
    "print('Days left: {}'.format(days_left))\n",
    "print('Monthly projection: {}, weight: {}'.format(int(round(monthly_projection)), round(projection_weight, 3)))\n",
    "print('-')\n",
    "\n",
    "\n",
    "def model():\n",
    "    mean = sq.mixture([sq.lognorm(80, 500),\n",
    "                       sq.lognorm(monthly_projection * 0.5, monthly_projection * 2)],\n",
    "                       weights=1 - projection_weight)\n",
    "    \n",
    "    def sample_followers(mean):\n",
    "        return sq.poisson(mean) if mean > 0 else mean\n",
    "    \n",
    "    return current_followers + sq.dist_fn(mean, sample_followers)\n",
    "\n",
    "print('Loaded...')"
   ]
  },
  {
   "cell_type": "code",
   "execution_count": 3,
   "id": "9ca65393",
   "metadata": {},
   "outputs": [
    {
     "name": "stderr",
     "output_type": "stream",
     "text": [
      "100%|███████████████████████████████████████████████████████████████████████████████████████████████████████████████████████████████████████████████████████████████| 10000/10000 [00:05<00:00, 1908.29it/s]\n"
     ]
    },
    {
     "name": "stdout",
     "output_type": "stream",
     "text": [
      "-\n",
      "Mean: 5181.97, SD: 199.52\n",
      "-\n",
      "{1: 4924,\n",
      " 5: 4958,\n",
      " 10: 4980,\n",
      " 20: 5017,\n",
      " 30: 5054,\n",
      " 40: 5093,\n",
      " 50: 5136,\n",
      " 60: 5184,\n",
      " 70: 5243,\n",
      " 80: 5323,\n",
      " 90: 5446,\n",
      " 95: 5548,\n",
      " 99: 5843}\n"
     ]
    },
    {
     "data": {
      "image/png": "[encoded data removed]",
      "text/plain": [
       "<Figure size 432x288 with 1 Axes>"
      ]
     },
     "metadata": {
      "needs_background": "light"
     },
     "output_type": "display_data"
    }
   ],
   "source": [
    "# Sample model\n",
    "n_samples = 10*K\n",
    "samples = sq.sample(model, n=n_samples, verbose=True)\n",
    "\n",
    "print('-')\n",
    "print('Mean: {}, SD: {}'.format(round(np.mean(samples), 2),\n",
    "                                round(np.std(samples), 2)))\n",
    "print('-')\n",
    "plt.hist(samples, bins=200)\n",
    "pprint(sq.get_percentiles(samples, digits=0))\n"
   ]
  },
  {
   "cell_type": "code",
   "execution_count": 4,
   "id": "58508338",
   "metadata": {},
   "outputs": [
    {
     "name": "stdout",
     "output_type": "stream",
     "text": [
      "Average gains per day so far: 16.2\n",
      "-\n",
      "## Expected average gains per day over the remainder of the month ##\n",
      "{1: 2,\n",
      " 5: 3,\n",
      " 10: 4,\n",
      " 20: 6,\n",
      " 30: 7,\n",
      " 40: 9,\n",
      " 50: 10,\n",
      " 60: 12,\n",
      " 70: 14,\n",
      " 80: 18,\n",
      " 90: 22,\n",
      " 95: 26,\n",
      " 99: 38}\n"
     ]
    },
    {
     "data": {
      "image/png": "[encoded data removed]",
      "text/plain": [
       "<Figure size 432x288 with 1 Axes>"
      ]
     },
     "metadata": {
      "needs_background": "light"
     },
     "output_type": "display_data"
    }
   ],
   "source": [
    "print('Average gains per day so far: {}'.format(round(avg_gains_in_month, 1)))\n",
    "print('-')\n",
    "print('## Expected average gains per day over the remainder of the month ##')\n",
    "s = (samples - current_followers) / days_left\n",
    "plt.hist(s, bins=200)\n",
    "pprint(sq.get_percentiles(s, digits=0))"
   ]
  },
  {
   "cell_type": "code",
   "execution_count": 5,
   "id": "bc6e4256",
   "metadata": {},
   "outputs": [
    {
     "name": "stdout",
     "output_type": "stream",
     "text": [
      ">4900 - 99%\n",
      ">4950 - 96%\n",
      ">5000 - 85%\n",
      ">5050 - 71%\n",
      ">5100 - 58%\n",
      ">5150 - 46%\n",
      ">5200 - 37%\n",
      ">5300 - 22%\n",
      ">5400 - 13%\n"
     ]
    }
   ],
   "source": [
    "initial_target = 4900\n",
    "for target in [initial_target + 50 * i + ((50 * (i - 6)) if i > 6 else 0) for i in range(9)]:    \n",
    "    print('>{} - {}%'.format(target, int(sum([s >= target for s in samples]) / len(samples) * 100)))"
   ]
  }
 ],
 "metadata": {
  "kernelspec": {
   "display_name": "Python 3 (ipykernel)",
   "language": "python",
   "name": "python3"
  },
  "language_info": {
   "codemirror_mode": {
    "name": "ipython",
    "version": 3
   },
   "file_extension": ".py",
   "mimetype": "text/x-python",
   "name": "python",
   "nbconvert_exporter": "python",
   "pygments_lexer": "ipython3",
   "version": "3.9.13"
  }
 },
 "nbformat": 4,
 "nbformat_minor": 5
}
